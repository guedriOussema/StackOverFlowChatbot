{
 "cells": [
  {
   "cell_type": "markdown",
   "id": "fcf5c9cf",
   "metadata": {},
   "source": [
    "# 1. Load Data"
   ]
  },
  {
   "cell_type": "code",
   "execution_count": 1,
   "id": "4f34fdb5",
   "metadata": {},
   "outputs": [],
   "source": [
    "import pandas as pd"
   ]
  },
  {
   "cell_type": "code",
   "execution_count": 20,
   "id": "d9ce651c",
   "metadata": {},
   "outputs": [],
   "source": [
    "train_questions = pd.read_csv('./data/questions_2009.csv')\n",
    "test_questions = pd.read_csv('./data/questions_2008.csv')\n",
    "\n",
    "train_answers = pd.read_csv('./data/answers_2009.csv')\n",
    "test_answers = pd.read_csv('./data/answers_2008.csv')\n",
    "tags_data = pd.read_csv('./data/Tags.csv')"
   ]
  },
  {
   "cell_type": "code",
   "execution_count": 21,
   "id": "b9ee1675",
   "metadata": {},
   "outputs": [
    {
     "name": "stdout",
     "output_type": "stream",
     "text": [
      "(34279, 8)\n",
      "(5789, 8)\n",
      "(112854, 7)\n",
      "(30136, 7)\n",
      "(3750994, 2)\n"
     ]
    }
   ],
   "source": [
    "print(train_questions.shape)\n",
    "print(test_questions.shape)\n",
    "print(train_answers.shape)\n",
    "print(test_answers.shape)\n",
    "print(tags_data.shape)"
   ]
  },
  {
   "cell_type": "code",
   "execution_count": 4,
   "id": "606f9f09",
   "metadata": {},
   "outputs": [
    {
     "data": {
      "text/html": [
       "<div>\n",
       "<style scoped>\n",
       "    .dataframe tbody tr th:only-of-type {\n",
       "        vertical-align: middle;\n",
       "    }\n",
       "\n",
       "    .dataframe tbody tr th {\n",
       "        vertical-align: top;\n",
       "    }\n",
       "\n",
       "    .dataframe thead th {\n",
       "        text-align: right;\n",
       "    }\n",
       "</style>\n",
       "<table border=\"1\" class=\"dataframe\">\n",
       "  <thead>\n",
       "    <tr style=\"text-align: right;\">\n",
       "      <th></th>\n",
       "      <th>Unnamed: 0</th>\n",
       "      <th>Id</th>\n",
       "      <th>OwnerUserId</th>\n",
       "      <th>CreationDate</th>\n",
       "      <th>ClosedDate</th>\n",
       "      <th>Score</th>\n",
       "      <th>Title</th>\n",
       "      <th>Body</th>\n",
       "    </tr>\n",
       "  </thead>\n",
       "  <tbody>\n",
       "    <tr>\n",
       "      <th>0</th>\n",
       "      <td>5826</td>\n",
       "      <td>404430</td>\n",
       "      <td>23571.0</td>\n",
       "      <td>2009-01-01T02:39:17Z</td>\n",
       "      <td>NaN</td>\n",
       "      <td>8</td>\n",
       "      <td>What have you used Regular Expressions for?</td>\n",
       "      <td>&lt;p&gt;I have heard of regular expressions and onl...</td>\n",
       "    </tr>\n",
       "    <tr>\n",
       "      <th>1</th>\n",
       "      <td>5827</td>\n",
       "      <td>404450</td>\n",
       "      <td>NaN</td>\n",
       "      <td>2009-01-01T02:55:13Z</td>\n",
       "      <td>NaN</td>\n",
       "      <td>1</td>\n",
       "      <td>LINQ to SQL</td>\n",
       "      <td>&lt;p&gt;I am finishing off a C# ASP.NET program tha...</td>\n",
       "    </tr>\n",
       "    <tr>\n",
       "      <th>2</th>\n",
       "      <td>5828</td>\n",
       "      <td>404470</td>\n",
       "      <td>24457.0</td>\n",
       "      <td>2009-01-01T03:17:22Z</td>\n",
       "      <td>NaN</td>\n",
       "      <td>55</td>\n",
       "      <td>What MIME type if JSON is being returned by a ...</td>\n",
       "      <td>&lt;p&gt;My REST API returns JSON. &lt;/p&gt;\\n\\n&lt;p&gt;I'm cu...</td>\n",
       "    </tr>\n",
       "    <tr>\n",
       "      <th>3</th>\n",
       "      <td>5829</td>\n",
       "      <td>404600</td>\n",
       "      <td>4.0</td>\n",
       "      <td>2009-01-01T05:51:41Z</td>\n",
       "      <td>NaN</td>\n",
       "      <td>4</td>\n",
       "      <td>SQL Server Enterprise Manager 2005 - stored pr...</td>\n",
       "      <td>&lt;p&gt;When using SQL Server Management Studio fro...</td>\n",
       "    </tr>\n",
       "    <tr>\n",
       "      <th>4</th>\n",
       "      <td>5830</td>\n",
       "      <td>404830</td>\n",
       "      <td>2594.0</td>\n",
       "      <td>2009-01-01T10:31:23Z</td>\n",
       "      <td>NaN</td>\n",
       "      <td>2</td>\n",
       "      <td>Cocoa Won't Capture Shift Modifier?</td>\n",
       "      <td>&lt;p&gt;Hey All,\\nI have an application in which I'...</td>\n",
       "    </tr>\n",
       "  </tbody>\n",
       "</table>\n",
       "</div>"
      ],
      "text/plain": [
       "   Unnamed: 0      Id  OwnerUserId          CreationDate ClosedDate  Score  \\\n",
       "0        5826  404430      23571.0  2009-01-01T02:39:17Z        NaN      8   \n",
       "1        5827  404450          NaN  2009-01-01T02:55:13Z        NaN      1   \n",
       "2        5828  404470      24457.0  2009-01-01T03:17:22Z        NaN     55   \n",
       "3        5829  404600          4.0  2009-01-01T05:51:41Z        NaN      4   \n",
       "4        5830  404830       2594.0  2009-01-01T10:31:23Z        NaN      2   \n",
       "\n",
       "                                               Title  \\\n",
       "0        What have you used Regular Expressions for?   \n",
       "1                                        LINQ to SQL   \n",
       "2  What MIME type if JSON is being returned by a ...   \n",
       "3  SQL Server Enterprise Manager 2005 - stored pr...   \n",
       "4                Cocoa Won't Capture Shift Modifier?   \n",
       "\n",
       "                                                Body  \n",
       "0  <p>I have heard of regular expressions and onl...  \n",
       "1  <p>I am finishing off a C# ASP.NET program tha...  \n",
       "2  <p>My REST API returns JSON. </p>\\n\\n<p>I'm cu...  \n",
       "3  <p>When using SQL Server Management Studio fro...  \n",
       "4  <p>Hey All,\\nI have an application in which I'...  "
      ]
     },
     "execution_count": 4,
     "metadata": {},
     "output_type": "execute_result"
    }
   ],
   "source": [
    "train_questions.head()"
   ]
  },
  {
   "cell_type": "code",
   "execution_count": 5,
   "id": "7b7cf971",
   "metadata": {},
   "outputs": [
    {
     "data": {
      "text/html": [
       "<div>\n",
       "<style scoped>\n",
       "    .dataframe tbody tr th:only-of-type {\n",
       "        vertical-align: middle;\n",
       "    }\n",
       "\n",
       "    .dataframe tbody tr th {\n",
       "        vertical-align: top;\n",
       "    }\n",
       "\n",
       "    .dataframe thead th {\n",
       "        text-align: right;\n",
       "    }\n",
       "</style>\n",
       "<table border=\"1\" class=\"dataframe\">\n",
       "  <thead>\n",
       "    <tr style=\"text-align: right;\">\n",
       "      <th></th>\n",
       "      <th>Unnamed: 0</th>\n",
       "      <th>Id</th>\n",
       "      <th>OwnerUserId</th>\n",
       "      <th>CreationDate</th>\n",
       "      <th>ParentId</th>\n",
       "      <th>Score</th>\n",
       "      <th>Body</th>\n",
       "    </tr>\n",
       "  </thead>\n",
       "  <tbody>\n",
       "    <tr>\n",
       "      <th>0</th>\n",
       "      <td>21617</td>\n",
       "      <td>404434</td>\n",
       "      <td>1288.0</td>\n",
       "      <td>2009-01-01T02:46:21Z</td>\n",
       "      <td>404430</td>\n",
       "      <td>6</td>\n",
       "      <td>&lt;p&gt;The most common use cases are to find strin...</td>\n",
       "    </tr>\n",
       "    <tr>\n",
       "      <th>1</th>\n",
       "      <td>21618</td>\n",
       "      <td>404436</td>\n",
       "      <td>20029.0</td>\n",
       "      <td>2009-01-01T02:46:58Z</td>\n",
       "      <td>404430</td>\n",
       "      <td>1</td>\n",
       "      <td>&lt;p&gt;Stack Overflow is in fact a good place to f...</td>\n",
       "    </tr>\n",
       "    <tr>\n",
       "      <th>2</th>\n",
       "      <td>21619</td>\n",
       "      <td>404437</td>\n",
       "      <td>15000.0</td>\n",
       "      <td>2009-01-01T02:47:37Z</td>\n",
       "      <td>404430</td>\n",
       "      <td>0</td>\n",
       "      <td>&lt;p&gt;Validating an email address is something i ...</td>\n",
       "    </tr>\n",
       "    <tr>\n",
       "      <th>3</th>\n",
       "      <td>21620</td>\n",
       "      <td>404438</td>\n",
       "      <td>14356.0</td>\n",
       "      <td>2009-01-01T02:48:28Z</td>\n",
       "      <td>404430</td>\n",
       "      <td>12</td>\n",
       "      <td>&lt;p&gt;Many things.  Including:&lt;/p&gt;\\n\\n&lt;ul&gt;\\n&lt;li&gt;E...</td>\n",
       "    </tr>\n",
       "    <tr>\n",
       "      <th>4</th>\n",
       "      <td>21621</td>\n",
       "      <td>404440</td>\n",
       "      <td>38803.0</td>\n",
       "      <td>2009-01-01T02:50:10Z</td>\n",
       "      <td>404430</td>\n",
       "      <td>2</td>\n",
       "      <td>&lt;p&gt;Well, any time you need to match something ...</td>\n",
       "    </tr>\n",
       "  </tbody>\n",
       "</table>\n",
       "</div>"
      ],
      "text/plain": [
       "   Unnamed: 0      Id  OwnerUserId          CreationDate  ParentId  Score  \\\n",
       "0       21617  404434       1288.0  2009-01-01T02:46:21Z    404430      6   \n",
       "1       21618  404436      20029.0  2009-01-01T02:46:58Z    404430      1   \n",
       "2       21619  404437      15000.0  2009-01-01T02:47:37Z    404430      0   \n",
       "3       21620  404438      14356.0  2009-01-01T02:48:28Z    404430     12   \n",
       "4       21621  404440      38803.0  2009-01-01T02:50:10Z    404430      2   \n",
       "\n",
       "                                                Body  \n",
       "0  <p>The most common use cases are to find strin...  \n",
       "1  <p>Stack Overflow is in fact a good place to f...  \n",
       "2  <p>Validating an email address is something i ...  \n",
       "3  <p>Many things.  Including:</p>\\n\\n<ul>\\n<li>E...  \n",
       "4  <p>Well, any time you need to match something ...  "
      ]
     },
     "execution_count": 5,
     "metadata": {},
     "output_type": "execute_result"
    }
   ],
   "source": [
    "train_answers.head()"
   ]
  },
  {
   "cell_type": "code",
   "execution_count": 6,
   "id": "e86f49ff",
   "metadata": {},
   "outputs": [
    {
     "data": {
      "text/plain": [
       "(34279, 4)"
      ]
     },
     "execution_count": 6,
     "metadata": {},
     "output_type": "execute_result"
    }
   ],
   "source": [
    "q_cols = ['Id', 'Score', 'Title', 'Body']\n",
    "train_Q = train_questions[q_cols]\n",
    "train_Q.shape"
   ]
  },
  {
   "cell_type": "code",
   "execution_count": 7,
   "id": "daa23641",
   "metadata": {},
   "outputs": [
    {
     "data": {
      "text/plain": [
       "(112854, 4)"
      ]
     },
     "execution_count": 7,
     "metadata": {},
     "output_type": "execute_result"
    }
   ],
   "source": [
    "a_cols = ['Id', 'ParentId', 'Score', 'Body']\n",
    "train_A = train_answers[a_cols]\n",
    "train_A.shape"
   ]
  },
  {
   "cell_type": "markdown",
   "id": "adea082a",
   "metadata": {},
   "source": [
    "# 2. Clean text and create TF-IDF model using \"Title\""
   ]
  },
  {
   "cell_type": "markdown",
   "id": "247e3fd0",
   "metadata": {},
   "source": [
    "## 2.1. Clean text"
   ]
  },
  {
   "cell_type": "code",
   "execution_count": 8,
   "id": "a8a8634d",
   "metadata": {},
   "outputs": [],
   "source": [
    "import nltk\n",
    "import re\n",
    "from nltk.corpus import stopwords\n",
    "from nltk.stem.porter import PorterStemmer\n",
    "from nltk.stem import WordNetLemmatizer"
   ]
  },
  {
   "cell_type": "code",
   "execution_count": 9,
   "id": "70ecc958",
   "metadata": {},
   "outputs": [
    {
     "data": {
      "text/plain": [
       "34279"
      ]
     },
     "execution_count": 9,
     "metadata": {},
     "output_type": "execute_result"
    }
   ],
   "source": [
    "headlines=[]\n",
    "for index, row in train_Q.iterrows():\n",
    "    headlines.append(row['Title'])\n",
    "len(headlines)"
   ]
  },
  {
   "cell_type": "code",
   "execution_count": 10,
   "id": "6a1b3c3e",
   "metadata": {},
   "outputs": [],
   "source": [
    "ps = PorterStemmer()\n",
    "corpus = []\n",
    "for headline in headlines:\n",
    "    review = re.sub('[^a-zA-Z]', ' ', headline)\n",
    "    review = review.lower()\n",
    "    review = review.split()\n",
    "    \n",
    "    review = [ps.stem(word) for word in review]\n",
    "    review = ' '.join(review)\n",
    "    corpus.append(review)"
   ]
  },
  {
   "cell_type": "code",
   "execution_count": 11,
   "id": "d87a0ed8",
   "metadata": {},
   "outputs": [
    {
     "data": {
      "text/plain": [
       "'what have you use regular express for'"
      ]
     },
     "execution_count": 11,
     "metadata": {},
     "output_type": "execute_result"
    }
   ],
   "source": [
    "corpus[0]"
   ]
  },
  {
   "cell_type": "markdown",
   "id": "bf23811b",
   "metadata": {},
   "source": [
    "## 2.2. Creating the TF-IDF model"
   ]
  },
  {
   "cell_type": "code",
   "execution_count": 12,
   "id": "dbb0452c",
   "metadata": {},
   "outputs": [],
   "source": [
    "from sklearn.feature_extraction.text import TfidfVectorizer\n",
    "cv = TfidfVectorizer()\n",
    "train_QT = cv.fit_transform(corpus).toarray()"
   ]
  },
  {
   "cell_type": "code",
   "execution_count": 13,
   "id": "e8fa6f22",
   "metadata": {},
   "outputs": [
    {
     "data": {
      "text/plain": [
       "(34279, 11178)"
      ]
     },
     "execution_count": 13,
     "metadata": {},
     "output_type": "execute_result"
    }
   ],
   "source": [
    "train_QT.shape"
   ]
  },
  {
   "cell_type": "code",
   "execution_count": 14,
   "id": "51e94a0f",
   "metadata": {},
   "outputs": [
    {
     "data": {
      "text/plain": [
       "array([[0., 0., 0., ..., 0., 0., 0.],\n",
       "       [0., 0., 0., ..., 0., 0., 0.],\n",
       "       [0., 0., 0., ..., 0., 0., 0.],\n",
       "       ...,\n",
       "       [0., 0., 0., ..., 0., 0., 0.],\n",
       "       [0., 0., 0., ..., 0., 0., 0.],\n",
       "       [0., 0., 0., ..., 0., 0., 0.]])"
      ]
     },
     "execution_count": 14,
     "metadata": {},
     "output_type": "execute_result"
    }
   ],
   "source": [
    "train_QT"
   ]
  },
  {
   "cell_type": "markdown",
   "id": "6eb8f0c6",
   "metadata": {},
   "source": [
    "# 3. Clean text and create TF-IDF model using \"Body\""
   ]
  },
  {
   "cell_type": "markdown",
   "id": "52b992e7",
   "metadata": {},
   "source": [
    "## 3.1. Clean text"
   ]
  },
  {
   "cell_type": "code",
   "execution_count": 15,
   "id": "cd5f5ff1",
   "metadata": {},
   "outputs": [
    {
     "data": {
      "text/plain": [
       "34279"
      ]
     },
     "execution_count": 15,
     "metadata": {},
     "output_type": "execute_result"
    }
   ],
   "source": [
    "headlinesB=[]\n",
    "for index, row in train_Q.iterrows():\n",
    "    headlinesB.append(row['Body'])\n",
    "    \"\"\"\n",
    "    sentences = nltk.sent_tokenize(row['Body'])\n",
    "    for sentence in sentences:\n",
    "        headlinesB.append(sentence)\"\"\"\n",
    "len(headlinesB)"
   ]
  },
  {
   "cell_type": "markdown",
   "id": "61ac4c02",
   "metadata": {},
   "source": [
    "## 3.2. Create TF-IDF model"
   ]
  },
  {
   "cell_type": "code",
   "execution_count": 16,
   "id": "a107dcef",
   "metadata": {},
   "outputs": [],
   "source": [
    "psB = PorterStemmer()\n",
    "corpusB = []\n",
    "for headline in headlinesB:\n",
    "    review = re.sub('[^a-zA-Z]', ' ', headline)\n",
    "    review = review.lower()\n",
    "    review = review.split()\n",
    "    \n",
    "    review = [ps.stem(word) for word in review]\n",
    "    review = ' '.join(review)\n",
    "    corpusB.append(review)"
   ]
  },
  {
   "cell_type": "code",
   "execution_count": 17,
   "id": "0aa7bb11",
   "metadata": {},
   "outputs": [
    {
     "data": {
      "text/plain": [
       "'p i have heard of regular express and onli seen use case for a few thing so i don t think of use them veri often in the past i have done a coupl of thing and it ha taken me hour to do later i talk to someon and they say here is how to do it use a regular express p p so what are thing for which you have use regular express if i get more exampl then mayb i can begin to know when to look for and use them p'"
      ]
     },
     "execution_count": 17,
     "metadata": {},
     "output_type": "execute_result"
    }
   ],
   "source": [
    "corpusB[0]"
   ]
  },
  {
   "cell_type": "code",
   "execution_count": 18,
   "id": "530d6bcb",
   "metadata": {},
   "outputs": [],
   "source": [
    "cvB = TfidfVectorizer(max_features=10000)\n",
    "train_QB = cvB.fit_transform(corpusB).toarray()"
   ]
  },
  {
   "cell_type": "code",
   "execution_count": 19,
   "id": "3d438376",
   "metadata": {},
   "outputs": [
    {
     "data": {
      "text/plain": [
       "array([[0., 0., 0., ..., 0., 0., 0.],\n",
       "       [0., 0., 0., ..., 0., 0., 0.],\n",
       "       [0., 0., 0., ..., 0., 0., 0.],\n",
       "       ...,\n",
       "       [0., 0., 0., ..., 0., 0., 0.],\n",
       "       [0., 0., 0., ..., 0., 0., 0.],\n",
       "       [0., 0., 0., ..., 0., 0., 0.]])"
      ]
     },
     "execution_count": 19,
     "metadata": {},
     "output_type": "execute_result"
    }
   ],
   "source": [
    "train_QB"
   ]
  },
  {
   "cell_type": "code",
   "execution_count": null,
   "id": "d962f0d7",
   "metadata": {},
   "outputs": [],
   "source": []
  }
 ],
 "metadata": {
  "kernelspec": {
   "display_name": "Python 3",
   "language": "python",
   "name": "python3"
  },
  "language_info": {
   "codemirror_mode": {
    "name": "ipython",
    "version": 3
   },
   "file_extension": ".py",
   "mimetype": "text/x-python",
   "name": "python",
   "nbconvert_exporter": "python",
   "pygments_lexer": "ipython3",
   "version": "3.8.8"
  }
 },
 "nbformat": 4,
 "nbformat_minor": 5
}
