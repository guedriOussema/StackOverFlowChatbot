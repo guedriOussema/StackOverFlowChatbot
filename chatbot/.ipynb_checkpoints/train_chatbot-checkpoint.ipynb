{
 "cells": [
  {
   "cell_type": "markdown",
   "id": "0b148674",
   "metadata": {},
   "source": [
    "# 1. Load the data"
   ]
  },
  {
   "cell_type": "code",
   "execution_count": 1,
   "id": "3f5d54cc",
   "metadata": {},
   "outputs": [],
   "source": [
    "import pandas as pd\n",
    "import nltk\n",
    "from nltk.stem import WordNetLemmatizer\n",
    "lemmatizer = WordNetLemmatizer()\n",
    "import json\n",
    "import pickle\n",
    "import numpy as np\n",
    "import random"
   ]
  },
  {
   "cell_type": "code",
   "execution_count": 2,
   "id": "241bcd25",
   "metadata": {},
   "outputs": [],
   "source": [
    "questions = pd.read_csv('./data/qs_2016.csv')"
   ]
  },
  {
   "cell_type": "code",
   "execution_count": 3,
   "id": "be0e81ef",
   "metadata": {},
   "outputs": [],
   "source": [
    "questions = questions.drop(['Unnamed: 0'], axis=1 )"
   ]
  },
  {
   "cell_type": "code",
   "execution_count": 4,
   "id": "ba9c1877",
   "metadata": {},
   "outputs": [],
   "source": [
    "words=[]\n",
    "classes = []\n",
    "documents = []\n",
    "ignore_words = ['?', '!']\n",
    "data_file = open('./data/intents.json').read()\n",
    "intents = json.loads(data_file)"
   ]
  },
  {
   "cell_type": "code",
   "execution_count": 5,
   "id": "02d448b8",
   "metadata": {},
   "outputs": [],
   "source": [
    "questions_sample = questions.sample(200)"
   ]
  },
  {
   "cell_type": "code",
   "execution_count": 6,
   "id": "4801b336",
   "metadata": {},
   "outputs": [],
   "source": [
    "pattern_question=[]\n",
    "for index, question in questions_sample.iterrows():\n",
    "        pattern_question.append(question.Title)\n",
    "        a = {\n",
    "        'tag': 'question',\n",
    "        'patterns': pattern_question,\n",
    "        'responses': [\"\"],\n",
    "        'context':[\"\"]\n",
    "        }\n",
    "        intents['intents'].append(a)"
   ]
  },
  {
   "cell_type": "markdown",
   "id": "e23c7f50",
   "metadata": {},
   "source": [
    "# 2. Preprocess data"
   ]
  },
  {
   "cell_type": "code",
   "execution_count": 7,
   "id": "b8276649",
   "metadata": {},
   "outputs": [],
   "source": [
    "for intent in intents['intents']:\n",
    "    for pattern in intent['patterns']:\n",
    "        #tokenize each word\n",
    "        w = nltk.word_tokenize(pattern)\n",
    "        words.extend(w)\n",
    "        #add documents in the corpus\n",
    "        documents.append((w, intent['tag']))\n",
    "        # add to our classes list\n",
    "        if intent['tag'] not in classes:\n",
    "            classes.append(intent['tag'])"
   ]
  },
  {
   "cell_type": "code",
   "execution_count": 8,
   "id": "13ea94bf",
   "metadata": {},
   "outputs": [
    {
     "name": "stdout",
     "output_type": "stream",
     "text": [
      "40037 documents\n",
      "5 classes ['goodbye', 'greeting', 'options', 'question', 'thanks']\n",
      "881 unique lemmatized words ['#', '$', '&', \"'\", \"''\", \"'s\", \"'type\", '(', ')', '*', '+', ',', '-', '.', '.ajax', '.htaccess', '.net', '/', '1d-array', '2', '2d', '3', '3044', '3d', '4.8.1', '407', '5', '5.2', '6', '8.5', ':', ':before', ':call', ':invokeargs', ':thread', '>', '[', ']', '_controller', '`', '``', 'a', 'accesible', 'access', 'accessibilty', 'accessing', 'according', 'accounted', 'acitivty', 'across', 'act', 'activity', 'actor', 'ad', 'adapter', 'add', 'addon/extension', 'advantage', 'aem', 'after', 'again', 'against', 'ahead', 'ajax', 'akka', 'algorithm', 'all', 'allows', 'am', 'amazon', 'an', 'analysis', 'anchor', 'and', 'android', 'angular', 'angularjs', 'another', 'any', 'anyone', 'apache', 'api', 'app', 'appdelegate', 'application', 'arbitrary', 'are', 'array', 'artisan', 'asp.net', 'assistance', 'at', 'atom', 'attribute', 'audio', 'authentication', 'auto', 'autocomplete', 'autoconnects', 'average', 'awesome', 'azure', 'b2b', 'b2c', 'background', 'bad', 'bar', 'based', 'batch', 'be', 'behavior', 'being', 'better', 'between', 'binary', 'black', 'block', 'bluemix', 'boolean', 'boost', 'browser', 'build', 'building', 'built', 'bundle', 'but', 'button', 'by', 'bye', 'c', 'c++', 'ca', 'caching', 'calculate', 'call', 'call_user_func', 'callback', 'can', 'cardview', 'case', 'cell', 'center', 'centering', 'certain', 'cgi-bin', 'change', 'changed', 'changeset', 'changing', 'channels.demultiplexer', 'char', 'chat', 'chatting', 'checkout', 'chef', 'child', 'ckeditor', 'class', 'class.forname', 'classnotfoundexception', 'clause', 'click', 'clickable', 'client', 'cloud', 'clregion', 'code', 'codeigniter', 'collapse', 'collect', 'collectionview', 'color', 'column', 'command', 'compiler', 'complete', 'completes', 'complexity', 'component', 'composer', 'composer.json', 'computer', 'concatenating', 'connect', 'connection-', 'console.log', 'constraint', 'contain', 'container', 'content', 'content-length', 'context', 'control', 'controller', 'cool', 'cors', 'could', 'count', 'cqrs', 'create', 'cross', 'cs', 'csv', 'ctrl.', 'curl', 'current', 'custom', 'customer', 'customize', 'customui', 'damaged/missing', 'data', 'database', 'databinding', 'datagrid', 'dataservicecontext', 'date', 'day', 'db', 'deadlock', 'debugger', 'decrypting', 'defined', 'definition', 'delay', 'delete', 'delivery', 'dependancy', 'dependency', 'determine', 'developed', 'device', 'dialog', 'dictionary', 'difference', 'different', 'dijkstra', 'directory', 'disable', 'display', 'distinct', 'div', 'django', 'dnn', 'do', 'documentation', 'doe', 'dom', 'dont', 'dose', 'down', 'download', 'downloading', 'doxygen', 'draw', 'dropdown', 'due', 'duplicate', 'dymo', 'dynamic', 'each', 'eclipse', 'eclipselink', 'element', 'email', 'ember.js', 'emulator', 'enable', 'enabling', 'encrypt', 'ending', 'engine', 'enter', 'equivalent', 'error', 'esb', 'evening', 'event', 'everything', 'exact', 'example', 'excel', 'exception', 'exists', 'expandable', 'express', 'expressjs', 'extension', 'extra', 'extract', 'extracting', 'fab', 'facebook', 'failing', 'fails', 'fast', 'feed', 'few', 'field', 'field1', 'field2', 'file', 'filter', 'find', 'finding', 'firebase', 'firefox', 'first', 'fitting', 'fix', 'flappy', 'flicker', 'flowrouter', 'following', 'font', 'for', 'forced', 'form', 'format', 'fortran', 'foundation', 'fragment', 'framework', 'from', 'function', 'gallery', 'generated', 'get', 'getting', 'github', 'give', 'given', 'gmail', 'go', 'going', 'good', 'goodbye', 'google', 'gpio', 'graph', 'great', 'group', 'guess', 'h5py', 'ha', 'happens', 'has_many', 'hash', 'header', 'hello', 'help', 'helper', 'helpful', 'helping', 'hexagon', 'hey', 'hi', 'hide/secure', 'highlight', 'hit', 'hitting', 'hola', 'hotcake', 'hour', 'hover', 'how', 'href', 'html', 'httparty', 'i', 'idiomatic', 'ie', 'if', 'iframe', 'ii', 'image', 'imaplib', 'implementation', 'in', 'include', 'incomplete', 'incorrect', 'incrementing', 'indentation', 'index', 'indexing', 'individual', 'infinite', 'info', 'information', 'infromation', 'innerhtml', 'insert', 'inserting', 'insertion', 'inside', 'install', 'installed', 'instance', 'instead', 'integer', 'intel', 'intellisense', 'interactive', 'internet', 'into', 'io', 'ioerror', 'iommu', 'is', 'issue', 'it', 'item', 'itextsharp', 'j', 'jackson', 'java', 'javafx', 'javascript', 'jmeter', 'job', 'join', 'joomla', 'jquery', 'json', 'jtable', 'jxa', 'key', 'keychain', 'keylistener', 'kind', 'kth', 'language', 'laravel', 'laravel5', 'later', 'launch', 'length', 'lexik', 'life', 'like', 'line', 'linechart', 'link', 'linked', 'linking', 'linq', 'linux', 'list', 'lists/pointers', 'listview', 'local', 'login', 'lost', 'lowest', 'm_xy', 'main', 'main-menu', 'make', 'making', 'man', 'management', 'manager', 'manual', 'mapping', 'mapquest', 'mark', 'match', 'matched', 'matching', 'material', 'matlab', 'matrix', 'maven', 'max', 'maximizedbounds', 'md5', 'me', 'meant', 'medias', 'medium', 'memory', 'menu', 'mess', 'message', 'method', 'middleware', 'minimum', 'mobile', 'modal', 'model', 'module', 'monitoring', 'morning', 'moving', 'mpadroidchart', 'mq', 'multidimensional', 'multipart-encoded', 'multiple', 'mvc', 'my', 'myarray', 'mysql', \"n't\", 'name', 'named', 'nan', 'navigation', 'need', 'nested', 'network', 'never', 'new', 'next', 'nice', 'node', 'nodejs', 'not', 'npm', 'null', 'nullptr', 'number', 'numerical', 'numpy', 'oauth2', 'object', 'objective-c', 'occurred', 'odata', 'odd', 'of', 'office', 'on', 'one', 'onlistitemclick', 'only', 'open', 'opengl', 'operation', 'operator', 'option', 'or', 'order', 'org.openqa.selenium.unhandledalertexception', 'origin', 'osgi', 'osx', 'other', 'output', 'outside', 'overwriting', 'package', 'page', 'paging', 'paired', 'parameter', 'params', 'parent', 'parse', 'parsers.unshift', 'passing', 'path', 'payload', 'pca', 'pcl', 'pdb', 'pdf', 'per', 'perfect', 'performance', 'permanently', 'permission', 'persist', 'persistent', 'php', 'phpactiverecord', 'picker', 'picture', 'piecewise', 'pig/hive', 'pixel', 'place', 'playable', 'plot', 'pointer', 'pointerinfo', 'possible', 'post', 'postgres', 'powershell', 'predictor', 'present', 'principal', 'print', 'problem', 'prod', 'product', 'profiler', 'proftpd', 'programatic', 'programatically', 'project', 'promise', 'prompt', 'properly', 'property', 'provide', 'proxy', 'pseudo', 'pushing', 'put', 'pycharm', 'python', 'query', 'question', 'quicktime', 'r', 'r.', 'racket-y', 'radial', 'rake', 'range', 'raspberry', 'raw_input', 're-add', 'react', 'reaction', 'real', 'receiver', 'receiving', 'recognized', 'recommendation', 'record', 'recycleview', 'redirected', 'reference', 'reflectionfunction', 'refreshing', 'regarding', 'regex', 'relationship', 'remote', 'remove', 'repa', 'request', 'request.url', 'require', 'resource', 'respond', 'responds', 'response', 'restrict', 'result', 'retrieved', 'return', 'reveal', 'rewrite', 'ribbon', 'right', 'role', 'route', 'row', 'rselenium', 'rule', 'run', 'run_dt=1/3/2015', 'running', 'runtime', 's', 's3', 'saga', 'same', 'sas', 'sasl', 'save', 'scene', 'schema', 'script', 'scriptintrinsicblur', 'search', 'second', 'section', 'security', 'see', 'select', 'selecting', 'selection', 'selector', 'selenium', 'send', 'sending', 'serialization', 'server', 'serverside', 'service', 'serving', 'session', 'session/encryption', 'set', 'setting', 'setup', 'sha-1', 'shape', 'share', 'shared-cache', 'sharing', 'short', 'should', 'shouldrasterize', 'show', 'shuffle', 'side', 'signal', 'signed', 'signing', 'sin', 'single', 'skewed', 'slick', 'smallest', 'so', 'soap', 'soap-env', 'socket.io', 'solve', 'some', 'source', 'spanning', 'special', 'specific', 'specify', 'specifying', 'speed', 'split', 'spring', 'sql', 'stack', 'standard', 'start', 'stat_summary', 'state', 'std', 'stop', 'stopped', 'store', 'storyboard', 'strength', 'string', 'studio', 'subquery', 'subset', 'substring', 'success', 'suffix', 'suite', 'sure', 'surprisingly', 'swagger', 'swift', 'switch', 'symfony', 'system', 'tab', 'table', 'task', 'tdd', 'team', 'template', 'terminal', 'testing', 'testing/automation', 'text', 'texturing', 'textview', 'tfs', 'thank', 'thanks', 'that', 'the', 'then', 'there', 'these', 'thing', 'this', 'thread', 'through', 'throw', 'throwing', 'till', 'time', 'tmux', 'to', 'toggled', 'tool', 'touched', 'tracker', 'tracking', 'traffic', 'transfer', 'tree', 'tsql', 'twice', 'two', 'txt', 'type', 'ui', 'uiimagejpegrepresentation', 'unable', 'unauthenticated', 'undefined', 'under', 'underscore', 'unresolved', 'unseen', 'up', 'updateview', 'upload', 'url', 'usage', 'use', 'used', 'user', 'using', 'v', 'validate', 'validated', 'validation', 'value', 'variable', 'vector', 'verified', 'version', 'via', 'video', 'view', 'vim', 'visual', 'vsts', 'wa', 'want', 'wanted', 'wassup', 'watching', 'way', 'web', 'webdriver/testng/nightwatch.js', 'website', 'what', 'whatsapp', 'when', 'whenever', 'whether', 'which', 'while', 'white', 'who', 'why', 'wicket', 'window', 'with', 'within', 'without', 'wo', 'woocommerce', 'wordpress', 'working', 'world', 'write', 'wrong', 'wso2', 'wso2cep', 'xampp', 'xaxis', 'xml', 'yii1.1', 'yo', 'yoo', 'you', 'zookeeper', '’']\n"
     ]
    }
   ],
   "source": [
    "# lemmatize, lower each word and remove duplicates\n",
    "words = [lemmatizer.lemmatize(w.lower()) for w in words if w not in ignore_words]\n",
    "words = sorted(list(set(words)))\n",
    "# sort classes\n",
    "classes = sorted(list(set(classes)))\n",
    "# documents = combination between patterns and intents\n",
    "print (len(documents), \"documents\")\n",
    "# classes = intents\n",
    "print (len(classes), \"classes\", classes)\n",
    "# words = all words, vocabulary\n",
    "print (len(words), \"unique lemmatized words\", words)\n",
    "pickle.dump(words,open('words.pkl','wb'))\n",
    "pickle.dump(classes,open('classes.pkl','wb'))"
   ]
  },
  {
   "cell_type": "markdown",
   "id": "abce612b",
   "metadata": {},
   "source": [
    "# 3. Create training and testing data"
   ]
  },
  {
   "cell_type": "code",
   "execution_count": 9,
   "id": "797accd3",
   "metadata": {},
   "outputs": [
    {
     "name": "stdout",
     "output_type": "stream",
     "text": [
      "Training data created\n"
     ]
    },
    {
     "name": "stderr",
     "output_type": "stream",
     "text": [
      "<ipython-input-9-5117620404a0>:22: VisibleDeprecationWarning: Creating an ndarray from ragged nested sequences (which is a list-or-tuple of lists-or-tuples-or ndarrays with different lengths or shapes) is deprecated. If you meant to do this, you must specify 'dtype=object' when creating the ndarray\n",
      "  training = np.array(training)\n"
     ]
    }
   ],
   "source": [
    "# create our training data\n",
    "training = []\n",
    "# create an empty array for our output\n",
    "output_empty = [0] * len(classes)\n",
    "# training set, bag of words for each sentence\n",
    "for doc in documents:\n",
    "    # initialize our bag of words\n",
    "    bag = []\n",
    "    # list of tokenized words for the pattern\n",
    "    pattern_words = doc[0]\n",
    "    # lemmatize each word - create base word, in attempt to represent related words\n",
    "    pattern_words = [lemmatizer.lemmatize(word.lower()) for word in pattern_words]\n",
    "    # create our bag of words array with 1, if word match found in current pattern\n",
    "    for w in words:\n",
    "        bag.append(1) if w in pattern_words else bag.append(0)\n",
    "    # output is a '0' for each tag and '1' for current tag (for each pattern)\n",
    "    output_row = list(output_empty)\n",
    "    output_row[classes.index(doc[1])] = 1\n",
    "    training.append([bag, output_row])\n",
    "# shuffle our features and turn into np.array\n",
    "random.shuffle(training)\n",
    "training = np.array(training)\n",
    "# create train and test lists. X - patterns, Y - intents\n",
    "train_x = list(training[:,0])\n",
    "train_y = list(training[:,1])\n",
    "print(\"Training data created\")"
   ]
  },
  {
   "cell_type": "markdown",
   "id": "3c42f9de",
   "metadata": {},
   "source": [
    "# 4. Build the model"
   ]
  },
  {
   "cell_type": "code",
   "execution_count": 10,
   "id": "b0af29ce",
   "metadata": {},
   "outputs": [],
   "source": [
    "import numpy as np\n",
    "from keras.models import Sequential\n",
    "from keras.layers import Dense, Activation, Dropout\n",
    "from tensorflow.keras.optimizers import SGD\n",
    "import random"
   ]
  },
  {
   "cell_type": "code",
   "execution_count": 11,
   "id": "c57f5f45",
   "metadata": {},
   "outputs": [
    {
     "name": "stderr",
     "output_type": "stream",
     "text": [
      "/home/guedri/anaconda3/lib/python3.8/site-packages/keras/optimizer_v2/optimizer_v2.py:355: UserWarning: The `lr` argument is deprecated, use `learning_rate` instead.\n",
      "  warnings.warn(\n"
     ]
    },
    {
     "name": "stdout",
     "output_type": "stream",
     "text": [
      "Epoch 1/100\n",
      "8008/8008 [==============================] - 12s 1ms/step - loss: 0.0111 - accuracy: 0.9985\n",
      "Epoch 2/100\n",
      "8008/8008 [==============================] - 11s 1ms/step - loss: 0.0058 - accuracy: 0.9991\n",
      "Epoch 3/100\n",
      "8008/8008 [==============================] - 12s 2ms/step - loss: 0.0035 - accuracy: 0.9991\n",
      "Epoch 4/100\n",
      "8008/8008 [==============================] - 14s 2ms/step - loss: 0.0026 - accuracy: 0.9991\n",
      "Epoch 5/100\n",
      "8008/8008 [==============================] - 11s 1ms/step - loss: 0.0020 - accuracy: 0.9991\n",
      "Epoch 6/100\n",
      "8008/8008 [==============================] - 12s 1ms/step - loss: 0.0018 - accuracy: 0.9991\n",
      "Epoch 7/100\n",
      "8008/8008 [==============================] - 13s 2ms/step - loss: 0.0015 - accuracy: 0.9993\n",
      "Epoch 8/100\n",
      "8008/8008 [==============================] - 12s 2ms/step - loss: 0.0015 - accuracy: 0.9995\n",
      "Epoch 9/100\n",
      "8008/8008 [==============================] - 13s 2ms/step - loss: 0.0013 - accuracy: 0.9995\n",
      "Epoch 10/100\n",
      "8008/8008 [==============================] - 14s 2ms/step - loss: 0.0013 - accuracy: 0.9995\n",
      "Epoch 11/100\n",
      "8008/8008 [==============================] - 12s 1ms/step - loss: 0.0013 - accuracy: 0.9995\n",
      "Epoch 12/100\n",
      "8008/8008 [==============================] - 11s 1ms/step - loss: 0.0013 - accuracy: 0.9995\n",
      "Epoch 13/100\n",
      "8008/8008 [==============================] - 11s 1ms/step - loss: 0.0012 - accuracy: 0.9995\n",
      "Epoch 14/100\n",
      "8008/8008 [==============================] - 11s 1ms/step - loss: 0.0012 - accuracy: 0.9996\n",
      "Epoch 15/100\n",
      "8008/8008 [==============================] - 12s 1ms/step - loss: 0.0012 - accuracy: 0.9996\n",
      "Epoch 16/100\n",
      "8008/8008 [==============================] - 12s 1ms/step - loss: 0.0012 - accuracy: 0.9995\n",
      "Epoch 17/100\n",
      "8008/8008 [==============================] - 15s 2ms/step - loss: 0.0011 - accuracy: 0.9996\n",
      "Epoch 18/100\n",
      "8008/8008 [==============================] - 16s 2ms/step - loss: 0.0011 - accuracy: 0.9996\n",
      "Epoch 19/100\n",
      "8008/8008 [==============================] - 14s 2ms/step - loss: 0.0011 - accuracy: 0.9996\n",
      "Epoch 20/100\n",
      "8008/8008 [==============================] - 12s 1ms/step - loss: 0.0011 - accuracy: 0.9996\n",
      "Epoch 21/100\n",
      "8008/8008 [==============================] - 15s 2ms/step - loss: 0.0011 - accuracy: 0.9996\n",
      "Epoch 22/100\n",
      "8008/8008 [==============================] - 15s 2ms/step - loss: 9.8734e-04 - accuracy: 0.9996\n",
      "Epoch 23/100\n",
      "8008/8008 [==============================] - 16s 2ms/step - loss: 9.9339e-04 - accuracy: 0.9996\n",
      "Epoch 24/100\n",
      "8008/8008 [==============================] - 14s 2ms/step - loss: 9.5086e-04 - accuracy: 0.9996\n",
      "Epoch 25/100\n",
      "8008/8008 [==============================] - 11s 1ms/step - loss: 9.4050e-04 - accuracy: 0.9997\n",
      "Epoch 26/100\n",
      "8008/8008 [==============================] - 11s 1ms/step - loss: 9.1496e-04 - accuracy: 0.9997\n",
      "Epoch 27/100\n",
      "8008/8008 [==============================] - 11s 1ms/step - loss: 8.4263e-04 - accuracy: 0.9997\n",
      "Epoch 28/100\n",
      "8008/8008 [==============================] - 12s 2ms/step - loss: 7.9940e-04 - accuracy: 0.9997\n",
      "Epoch 29/100\n",
      "8008/8008 [==============================] - 14s 2ms/step - loss: 8.8382e-04 - accuracy: 0.9997\n",
      "Epoch 30/100\n",
      "8008/8008 [==============================] - 11s 1ms/step - loss: 9.0488e-04 - accuracy: 0.9996\n",
      "Epoch 31/100\n",
      "8008/8008 [==============================] - 11s 1ms/step - loss: 7.9759e-04 - accuracy: 0.9997\n",
      "Epoch 32/100\n",
      "8008/8008 [==============================] - 12s 1ms/step - loss: 8.2014e-04 - accuracy: 0.9997\n",
      "Epoch 33/100\n",
      "8008/8008 [==============================] - 11s 1ms/step - loss: 6.9746e-04 - accuracy: 0.9998\n",
      "Epoch 34/100\n",
      "8008/8008 [==============================] - 12s 1ms/step - loss: 6.7094e-04 - accuracy: 0.9997\n",
      "Epoch 35/100\n",
      "8008/8008 [==============================] - 16s 2ms/step - loss: 8.4420e-04 - accuracy: 0.9996\n",
      "Epoch 36/100\n",
      "8008/8008 [==============================] - 14s 2ms/step - loss: 8.3771e-04 - accuracy: 0.9997\n",
      "Epoch 37/100\n",
      "8008/8008 [==============================] - 13s 2ms/step - loss: 7.0638e-04 - accuracy: 0.9998\n",
      "Epoch 38/100\n",
      "8008/8008 [==============================] - 11s 1ms/step - loss: 5.6996e-04 - accuracy: 0.9998\n",
      "Epoch 39/100\n",
      "8008/8008 [==============================] - 14s 2ms/step - loss: 6.6759e-04 - accuracy: 0.9998\n",
      "Epoch 40/100\n",
      "8008/8008 [==============================] - 15s 2ms/step - loss: 6.9380e-04 - accuracy: 0.9997\n",
      "Epoch 41/100\n",
      "8008/8008 [==============================] - 11s 1ms/step - loss: 5.5309e-04 - accuracy: 0.9998\n",
      "Epoch 42/100\n",
      "8008/8008 [==============================] - 11s 1ms/step - loss: 5.6022e-04 - accuracy: 0.9998\n",
      "Epoch 43/100\n",
      "8008/8008 [==============================] - 11s 1ms/step - loss: 6.6027e-04 - accuracy: 0.9997\n",
      "Epoch 44/100\n",
      "8008/8008 [==============================] - 11s 1ms/step - loss: 4.6075e-04 - accuracy: 0.9998\n",
      "Epoch 45/100\n",
      "8008/8008 [==============================] - 15s 2ms/step - loss: 7.3748e-04 - accuracy: 0.9997\n",
      "Epoch 46/100\n",
      "8008/8008 [==============================] - 13s 2ms/step - loss: 5.4490e-04 - accuracy: 0.9998\n",
      "Epoch 47/100\n",
      "8008/8008 [==============================] - 11s 1ms/step - loss: 4.3709e-04 - accuracy: 0.9999\n",
      "Epoch 48/100\n",
      "8008/8008 [==============================] - 12s 1ms/step - loss: 5.5232e-04 - accuracy: 0.9998\n",
      "Epoch 49/100\n",
      "8008/8008 [==============================] - 13s 2ms/step - loss: 3.8195e-04 - accuracy: 0.9999\n",
      "Epoch 50/100\n",
      "8008/8008 [==============================] - 15s 2ms/step - loss: 5.1323e-04 - accuracy: 0.9999\n",
      "Epoch 51/100\n",
      "8008/8008 [==============================] - 16s 2ms/step - loss: 3.8798e-04 - accuracy: 0.9999\n",
      "Epoch 52/100\n",
      "8008/8008 [==============================] - 13s 2ms/step - loss: 3.9340e-04 - accuracy: 0.9999\n",
      "Epoch 53/100\n",
      "8008/8008 [==============================] - 12s 1ms/step - loss: 4.2963e-04 - accuracy: 0.9999\n",
      "Epoch 54/100\n",
      "8008/8008 [==============================] - 12s 2ms/step - loss: 4.5865e-04 - accuracy: 0.9998\n",
      "Epoch 55/100\n",
      "8008/8008 [==============================] - 15s 2ms/step - loss: 3.6494e-04 - accuracy: 0.9999\n",
      "Epoch 56/100\n",
      "8008/8008 [==============================] - 15s 2ms/step - loss: 4.0890e-04 - accuracy: 0.9999\n",
      "Epoch 57/100\n",
      "8008/8008 [==============================] - 15s 2ms/step - loss: 4.3010e-04 - accuracy: 0.9998\n",
      "Epoch 58/100\n",
      "8008/8008 [==============================] - 14s 2ms/step - loss: 3.8458e-04 - accuracy: 0.9999\n",
      "Epoch 59/100\n",
      "8008/8008 [==============================] - 13s 2ms/step - loss: 3.4429e-04 - accuracy: 1.0000\n",
      "Epoch 60/100\n",
      "8008/8008 [==============================] - 15s 2ms/step - loss: 3.3837e-04 - accuracy: 0.9999\n",
      "Epoch 61/100\n",
      "8008/8008 [==============================] - 13s 2ms/step - loss: 4.3785e-04 - accuracy: 0.9998\n",
      "Epoch 62/100\n",
      "8008/8008 [==============================] - 12s 1ms/step - loss: 2.6582e-04 - accuracy: 0.9999\n",
      "Epoch 63/100\n",
      "8008/8008 [==============================] - 14s 2ms/step - loss: 2.9202e-04 - accuracy: 0.9999\n",
      "Epoch 64/100\n",
      "8008/8008 [==============================] - 15s 2ms/step - loss: 2.8270e-04 - accuracy: 0.9999\n",
      "Epoch 65/100\n",
      "8008/8008 [==============================] - 14s 2ms/step - loss: 2.3761e-04 - accuracy: 1.0000\n",
      "Epoch 66/100\n",
      "8008/8008 [==============================] - 13s 2ms/step - loss: 4.0876e-04 - accuracy: 0.9999\n",
      "Epoch 67/100\n",
      "8008/8008 [==============================] - 13s 2ms/step - loss: 3.1151e-04 - accuracy: 0.9999\n",
      "Epoch 68/100\n",
      "8008/8008 [==============================] - 12s 2ms/step - loss: 2.9614e-04 - accuracy: 0.9999\n",
      "Epoch 69/100\n",
      "8008/8008 [==============================] - 11s 1ms/step - loss: 2.7996e-04 - accuracy: 0.9999\n",
      "Epoch 70/100\n",
      "8008/8008 [==============================] - 11s 1ms/step - loss: 2.2720e-04 - accuracy: 1.0000\n",
      "Epoch 71/100\n",
      "8008/8008 [==============================] - 17s 2ms/step - loss: 2.2880e-04 - accuracy: 1.0000\n",
      "Epoch 72/100\n",
      "8008/8008 [==============================] - 16s 2ms/step - loss: 2.8898e-04 - accuracy: 0.9999\n",
      "Epoch 73/100\n",
      "8008/8008 [==============================] - 14s 2ms/step - loss: 2.1766e-04 - accuracy: 1.0000\n",
      "Epoch 74/100\n",
      "8008/8008 [==============================] - 12s 1ms/step - loss: 3.3907e-04 - accuracy: 0.9999\n",
      "Epoch 75/100\n",
      "8008/8008 [==============================] - 13s 2ms/step - loss: 1.9602e-04 - accuracy: 1.0000\n",
      "Epoch 76/100\n",
      "8008/8008 [==============================] - 12s 2ms/step - loss: 1.8785e-04 - accuracy: 1.0000\n",
      "Epoch 77/100\n"
     ]
    },
    {
     "name": "stdout",
     "output_type": "stream",
     "text": [
      "8008/8008 [==============================] - 11s 1ms/step - loss: 1.1939e-04 - accuracy: 1.0000\n",
      "Epoch 78/100\n",
      "8008/8008 [==============================] - 11s 1ms/step - loss: 2.3699e-04 - accuracy: 1.0000\n",
      "Epoch 79/100\n",
      "8008/8008 [==============================] - 11s 1ms/step - loss: 2.7774e-04 - accuracy: 0.9999\n",
      "Epoch 80/100\n",
      "8008/8008 [==============================] - 11s 1ms/step - loss: 3.5540e-04 - accuracy: 0.9999\n",
      "Epoch 81/100\n",
      "8008/8008 [==============================] - 11s 1ms/step - loss: 1.5248e-04 - accuracy: 1.0000\n",
      "Epoch 82/100\n",
      "8008/8008 [==============================] - 12s 1ms/step - loss: 2.2224e-04 - accuracy: 1.0000\n",
      "Epoch 83/100\n",
      "8008/8008 [==============================] - 12s 2ms/step - loss: 1.3948e-04 - accuracy: 1.0000\n",
      "Epoch 84/100\n",
      "8008/8008 [==============================] - 12s 2ms/step - loss: 2.9871e-04 - accuracy: 0.9999\n",
      "Epoch 85/100\n",
      "8008/8008 [==============================] - 12s 1ms/step - loss: 1.8545e-04 - accuracy: 1.0000\n",
      "Epoch 86/100\n",
      "8008/8008 [==============================] - 14s 2ms/step - loss: 2.0552e-04 - accuracy: 1.0000\n",
      "Epoch 87/100\n",
      "8008/8008 [==============================] - 15s 2ms/step - loss: 2.1631e-04 - accuracy: 0.9999\n",
      "Epoch 88/100\n",
      "8008/8008 [==============================] - 13s 2ms/step - loss: 2.2993e-04 - accuracy: 0.9999\n",
      "Epoch 89/100\n",
      "8008/8008 [==============================] - 12s 1ms/step - loss: 1.5370e-04 - accuracy: 0.9999\n",
      "Epoch 90/100\n",
      "8008/8008 [==============================] - 12s 1ms/step - loss: 2.0825e-04 - accuracy: 0.9999\n",
      "Epoch 91/100\n",
      "8008/8008 [==============================] - 12s 1ms/step - loss: 1.0628e-04 - accuracy: 1.0000\n",
      "Epoch 92/100\n",
      "8008/8008 [==============================] - 12s 1ms/step - loss: 1.6897e-04 - accuracy: 1.0000\n",
      "Epoch 93/100\n",
      "8008/8008 [==============================] - 12s 1ms/step - loss: 2.5068e-04 - accuracy: 1.0000\n",
      "Epoch 94/100\n",
      "8008/8008 [==============================] - 12s 2ms/step - loss: 1.7668e-04 - accuracy: 1.0000\n",
      "Epoch 95/100\n",
      "8008/8008 [==============================] - 13s 2ms/step - loss: 1.4277e-04 - accuracy: 1.0000\n",
      "Epoch 96/100\n",
      "8008/8008 [==============================] - 12s 2ms/step - loss: 1.7596e-04 - accuracy: 1.0000\n",
      "Epoch 97/100\n",
      "8008/8008 [==============================] - 12s 1ms/step - loss: 1.2004e-04 - accuracy: 1.0000\n",
      "Epoch 98/100\n",
      "8008/8008 [==============================] - 12s 1ms/step - loss: 1.5788e-04 - accuracy: 1.0000\n",
      "Epoch 99/100\n",
      "8008/8008 [==============================] - 12s 1ms/step - loss: 6.6257e-05 - accuracy: 1.0000\n",
      "Epoch 100/100\n",
      "8008/8008 [==============================] - 12s 1ms/step - loss: 1.1225e-04 - accuracy: 1.0000\n",
      "model created\n"
     ]
    }
   ],
   "source": [
    "# Create model - 3 layers. First layer 128 neurons, second layer 64 neurons and 3rd output layer contains number of neurons\n",
    "# equal to number of intents to predict output intent with softmax\n",
    "model = Sequential()\n",
    "model.add(Dense(128, input_shape=(len(train_x[0]),), activation='relu'))\n",
    "model.add(Dropout(0.5))\n",
    "model.add(Dense(64, activation='relu'))\n",
    "model.add(Dropout(0.5))\n",
    "model.add(Dense(len(train_y[0]), activation='softmax'))\n",
    "# Compile model. Stochastic gradient descent with Nesterov accelerated gradient gives good results for this model\n",
    "sgd = SGD(lr=0.01, decay=1e-6, momentum=0.9, nesterov=True)\n",
    "model.compile(loss='categorical_crossentropy', optimizer=sgd, metrics=['accuracy'])\n",
    "#fitting and saving the model \n",
    "hist = model.fit(np.array(train_x), np.array(train_y), epochs=100, batch_size=5, verbose=1)\n",
    "model.save('chatbot_model.h5', hist)\n",
    "print(\"model created\")"
   ]
  },
  {
   "cell_type": "code",
   "execution_count": 12,
   "id": "4b16d02e",
   "metadata": {},
   "outputs": [],
   "source": [
    "with open('intents.json', 'w') as fp:\n",
    "    json.dump(intents, fp)"
   ]
  },
  {
   "cell_type": "code",
   "execution_count": null,
   "id": "639b7026",
   "metadata": {},
   "outputs": [],
   "source": []
  }
 ],
 "metadata": {
  "kernelspec": {
   "display_name": "Python 3",
   "language": "python",
   "name": "python3"
  },
  "language_info": {
   "codemirror_mode": {
    "name": "ipython",
    "version": 3
   },
   "file_extension": ".py",
   "mimetype": "text/x-python",
   "name": "python",
   "nbconvert_exporter": "python",
   "pygments_lexer": "ipython3",
   "version": "3.8.8"
  }
 },
 "nbformat": 4,
 "nbformat_minor": 5
}
