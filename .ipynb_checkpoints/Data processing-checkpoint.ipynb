{
 "cells": [
  {
   "cell_type": "markdown",
   "id": "fcf5c9cf",
   "metadata": {},
   "source": [
    "# 1. Load Data"
   ]
  },
  {
   "cell_type": "code",
   "execution_count": 1,
   "id": "4f34fdb5",
   "metadata": {},
   "outputs": [],
   "source": [
    "import pandas as pd"
   ]
  },
  {
   "cell_type": "code",
   "execution_count": 2,
   "id": "d9ce651c",
   "metadata": {},
   "outputs": [],
   "source": [
    "train_questions = pd.read_csv('./data/questions_2009.csv')"
   ]
  },
  {
   "cell_type": "code",
   "execution_count": 3,
   "id": "b9ee1675",
   "metadata": {},
   "outputs": [
    {
     "name": "stdout",
     "output_type": "stream",
     "text": [
      "(34279, 8)\n"
     ]
    }
   ],
   "source": [
    "print(train_questions.shape)"
   ]
  },
  {
   "cell_type": "code",
   "execution_count": 4,
   "id": "606f9f09",
   "metadata": {},
   "outputs": [
    {
     "data": {
      "text/html": [
       "<div>\n",
       "<style scoped>\n",
       "    .dataframe tbody tr th:only-of-type {\n",
       "        vertical-align: middle;\n",
       "    }\n",
       "\n",
       "    .dataframe tbody tr th {\n",
       "        vertical-align: top;\n",
       "    }\n",
       "\n",
       "    .dataframe thead th {\n",
       "        text-align: right;\n",
       "    }\n",
       "</style>\n",
       "<table border=\"1\" class=\"dataframe\">\n",
       "  <thead>\n",
       "    <tr style=\"text-align: right;\">\n",
       "      <th></th>\n",
       "      <th>Unnamed: 0</th>\n",
       "      <th>Id</th>\n",
       "      <th>OwnerUserId</th>\n",
       "      <th>CreationDate</th>\n",
       "      <th>ClosedDate</th>\n",
       "      <th>Score</th>\n",
       "      <th>Title</th>\n",
       "      <th>Body</th>\n",
       "    </tr>\n",
       "  </thead>\n",
       "  <tbody>\n",
       "    <tr>\n",
       "      <th>0</th>\n",
       "      <td>5826</td>\n",
       "      <td>404430</td>\n",
       "      <td>23571.0</td>\n",
       "      <td>2009-01-01T02:39:17Z</td>\n",
       "      <td>NaN</td>\n",
       "      <td>8</td>\n",
       "      <td>What have you used Regular Expressions for?</td>\n",
       "      <td>&lt;p&gt;I have heard of regular expressions and onl...</td>\n",
       "    </tr>\n",
       "    <tr>\n",
       "      <th>1</th>\n",
       "      <td>5827</td>\n",
       "      <td>404450</td>\n",
       "      <td>NaN</td>\n",
       "      <td>2009-01-01T02:55:13Z</td>\n",
       "      <td>NaN</td>\n",
       "      <td>1</td>\n",
       "      <td>LINQ to SQL</td>\n",
       "      <td>&lt;p&gt;I am finishing off a C# ASP.NET program tha...</td>\n",
       "    </tr>\n",
       "    <tr>\n",
       "      <th>2</th>\n",
       "      <td>5828</td>\n",
       "      <td>404470</td>\n",
       "      <td>24457.0</td>\n",
       "      <td>2009-01-01T03:17:22Z</td>\n",
       "      <td>NaN</td>\n",
       "      <td>55</td>\n",
       "      <td>What MIME type if JSON is being returned by a ...</td>\n",
       "      <td>&lt;p&gt;My REST API returns JSON. &lt;/p&gt;\\n\\n&lt;p&gt;I'm cu...</td>\n",
       "    </tr>\n",
       "    <tr>\n",
       "      <th>3</th>\n",
       "      <td>5829</td>\n",
       "      <td>404600</td>\n",
       "      <td>4.0</td>\n",
       "      <td>2009-01-01T05:51:41Z</td>\n",
       "      <td>NaN</td>\n",
       "      <td>4</td>\n",
       "      <td>SQL Server Enterprise Manager 2005 - stored pr...</td>\n",
       "      <td>&lt;p&gt;When using SQL Server Management Studio fro...</td>\n",
       "    </tr>\n",
       "    <tr>\n",
       "      <th>4</th>\n",
       "      <td>5830</td>\n",
       "      <td>404830</td>\n",
       "      <td>2594.0</td>\n",
       "      <td>2009-01-01T10:31:23Z</td>\n",
       "      <td>NaN</td>\n",
       "      <td>2</td>\n",
       "      <td>Cocoa Won't Capture Shift Modifier?</td>\n",
       "      <td>&lt;p&gt;Hey All,\\nI have an application in which I'...</td>\n",
       "    </tr>\n",
       "  </tbody>\n",
       "</table>\n",
       "</div>"
      ],
      "text/plain": [
       "   Unnamed: 0      Id  OwnerUserId          CreationDate ClosedDate  Score  \\\n",
       "0        5826  404430      23571.0  2009-01-01T02:39:17Z        NaN      8   \n",
       "1        5827  404450          NaN  2009-01-01T02:55:13Z        NaN      1   \n",
       "2        5828  404470      24457.0  2009-01-01T03:17:22Z        NaN     55   \n",
       "3        5829  404600          4.0  2009-01-01T05:51:41Z        NaN      4   \n",
       "4        5830  404830       2594.0  2009-01-01T10:31:23Z        NaN      2   \n",
       "\n",
       "                                               Title  \\\n",
       "0        What have you used Regular Expressions for?   \n",
       "1                                        LINQ to SQL   \n",
       "2  What MIME type if JSON is being returned by a ...   \n",
       "3  SQL Server Enterprise Manager 2005 - stored pr...   \n",
       "4                Cocoa Won't Capture Shift Modifier?   \n",
       "\n",
       "                                                Body  \n",
       "0  <p>I have heard of regular expressions and onl...  \n",
       "1  <p>I am finishing off a C# ASP.NET program tha...  \n",
       "2  <p>My REST API returns JSON. </p>\\n\\n<p>I'm cu...  \n",
       "3  <p>When using SQL Server Management Studio fro...  \n",
       "4  <p>Hey All,\\nI have an application in which I'...  "
      ]
     },
     "execution_count": 4,
     "metadata": {},
     "output_type": "execute_result"
    }
   ],
   "source": [
    "train_questions.head()"
   ]
  },
  {
   "cell_type": "code",
   "execution_count": 5,
   "id": "e86f49ff",
   "metadata": {},
   "outputs": [
    {
     "data": {
      "text/plain": [
       "(34279, 4)"
      ]
     },
     "execution_count": 5,
     "metadata": {},
     "output_type": "execute_result"
    }
   ],
   "source": [
    "q_cols = ['Id', 'Score', 'Title', 'Body']\n",
    "train_Q = train_questions[q_cols]\n",
    "train_Q.shape"
   ]
  },
  {
   "cell_type": "markdown",
   "id": "adea082a",
   "metadata": {},
   "source": [
    "# 2. Clean text and create TF-IDF model using \"Title\""
   ]
  },
  {
   "cell_type": "markdown",
   "id": "247e3fd0",
   "metadata": {},
   "source": [
    "## 2.1. Clean text"
   ]
  },
  {
   "cell_type": "code",
   "execution_count": 6,
   "id": "a8a8634d",
   "metadata": {},
   "outputs": [],
   "source": [
    "import nltk\n",
    "import re\n",
    "from nltk.corpus import stopwords\n",
    "from nltk.stem.porter import PorterStemmer\n",
    "from nltk.stem import WordNetLemmatizer"
   ]
  },
  {
   "cell_type": "code",
   "execution_count": 7,
   "id": "70ecc958",
   "metadata": {},
   "outputs": [
    {
     "data": {
      "text/plain": [
       "34279"
      ]
     },
     "execution_count": 7,
     "metadata": {},
     "output_type": "execute_result"
    }
   ],
   "source": [
    "headlines=[]\n",
    "for index, row in train_Q.iterrows():\n",
    "    headlines.append(row['Title'])\n",
    "len(headlines)"
   ]
  },
  {
   "cell_type": "code",
   "execution_count": 8,
   "id": "6a1b3c3e",
   "metadata": {},
   "outputs": [],
   "source": [
    "ps = PorterStemmer()\n",
    "corpus = []\n",
    "for headline in headlines:\n",
    "    review = re.sub('[^a-zA-Z]', ' ', headline)\n",
    "    review = review.lower()\n",
    "    review = review.split()\n",
    "    \n",
    "    review = [ps.stem(word) for word in review if word not in stopwords.words('english')]\n",
    "    review = ' '.join(review)\n",
    "    corpus.append(review)"
   ]
  },
  {
   "cell_type": "code",
   "execution_count": 9,
   "id": "d87a0ed8",
   "metadata": {},
   "outputs": [
    {
     "data": {
      "text/plain": [
       "'use regular express'"
      ]
     },
     "execution_count": 9,
     "metadata": {},
     "output_type": "execute_result"
    }
   ],
   "source": [
    "corpus[0]"
   ]
  },
  {
   "cell_type": "markdown",
   "id": "bf23811b",
   "metadata": {},
   "source": [
    "## 2.2. Creating the TF-IDF model"
   ]
  },
  {
   "cell_type": "code",
   "execution_count": 10,
   "id": "dbb0452c",
   "metadata": {},
   "outputs": [],
   "source": [
    "from sklearn.feature_extraction.text import TfidfVectorizer\n",
    "cv = TfidfVectorizer(max_features=10000, ngram_range=(1, 2))\n",
    "train_QT = cv.fit_transform(corpus).toarray()"
   ]
  },
  {
   "cell_type": "code",
   "execution_count": 11,
   "id": "e8fa6f22",
   "metadata": {},
   "outputs": [
    {
     "data": {
      "text/plain": [
       "(34279, 10000)"
      ]
     },
     "execution_count": 11,
     "metadata": {},
     "output_type": "execute_result"
    }
   ],
   "source": [
    "train_QT.shape"
   ]
  },
  {
   "cell_type": "code",
   "execution_count": 12,
   "id": "51e94a0f",
   "metadata": {},
   "outputs": [
    {
     "data": {
      "text/plain": [
       "array([[0., 0., 0., ..., 0., 0., 0.],\n",
       "       [0., 0., 0., ..., 0., 0., 0.],\n",
       "       [0., 0., 0., ..., 0., 0., 0.],\n",
       "       ...,\n",
       "       [0., 0., 0., ..., 0., 0., 0.],\n",
       "       [0., 0., 0., ..., 0., 0., 0.],\n",
       "       [0., 0., 0., ..., 0., 0., 0.]])"
      ]
     },
     "execution_count": 12,
     "metadata": {},
     "output_type": "execute_result"
    }
   ],
   "source": [
    "train_QT"
   ]
  },
  {
   "cell_type": "code",
   "execution_count": 13,
   "id": "7e1649d3",
   "metadata": {},
   "outputs": [
    {
     "data": {
      "text/plain": [
       "(34279, 10000)"
      ]
     },
     "execution_count": 13,
     "metadata": {},
     "output_type": "execute_result"
    }
   ],
   "source": [
    "df1 = pd.DataFrame(train_QT, columns=cv.get_feature_names())\n",
    "df1.shape"
   ]
  },
  {
   "cell_type": "code",
   "execution_count": 14,
   "id": "e5860968",
   "metadata": {},
   "outputs": [],
   "source": [
    "df = train_questions.drop(['Unnamed: 0', 'OwnerUserId', 'CreationDate', 'ClosedDate', 'Title', 'Body', 'Score'], axis=1)"
   ]
  },
  {
   "cell_type": "code",
   "execution_count": 15,
   "id": "982c18ab",
   "metadata": {},
   "outputs": [
    {
     "data": {
      "text/plain": [
       "(34279, 10001)"
      ]
     },
     "execution_count": 15,
     "metadata": {},
     "output_type": "execute_result"
    }
   ],
   "source": [
    "res = pd.concat([df, df1], axis=1)\n",
    "res.shape"
   ]
  },
  {
   "cell_type": "code",
   "execution_count": 17,
   "id": "3dfa608b",
   "metadata": {},
   "outputs": [],
   "source": [
    "res.to_csv('data/data.csv', index=False)"
   ]
  },
  {
   "cell_type": "code",
   "execution_count": null,
   "id": "b3163bf2",
   "metadata": {},
   "outputs": [],
   "source": []
  }
 ],
 "metadata": {
  "kernelspec": {
   "display_name": "Python 3",
   "language": "python",
   "name": "python3"
  },
  "language_info": {
   "codemirror_mode": {
    "name": "ipython",
    "version": 3
   },
   "file_extension": ".py",
   "mimetype": "text/x-python",
   "name": "python",
   "nbconvert_exporter": "python",
   "pygments_lexer": "ipython3",
   "version": "3.8.8"
  }
 },
 "nbformat": 4,
 "nbformat_minor": 5
}
