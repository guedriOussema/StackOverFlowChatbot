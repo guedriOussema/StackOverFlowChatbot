{
 "cells": [
  {
   "cell_type": "markdown",
   "id": "fcf5c9cf",
   "metadata": {},
   "source": [
    "# 1. Load Data"
   ]
  },
  {
   "cell_type": "code",
   "execution_count": 1,
   "id": "4f34fdb5",
   "metadata": {},
   "outputs": [],
   "source": [
    "import pandas as pd"
   ]
  },
  {
   "cell_type": "code",
   "execution_count": 2,
   "id": "d9ce651c",
   "metadata": {},
   "outputs": [],
   "source": [
    "train_questions = pd.read_csv('./data/questions_2009.csv')\n",
    "test_questions = pd.read_csv('./data/questions_2008.csv')"
   ]
  },
  {
   "cell_type": "code",
   "execution_count": 3,
   "id": "b9ee1675",
   "metadata": {},
   "outputs": [
    {
     "name": "stdout",
     "output_type": "stream",
     "text": [
      "(34279, 8)\n"
     ]
    }
   ],
   "source": [
    "print(train_questions.shape)"
   ]
  },
  {
   "cell_type": "code",
   "execution_count": 4,
   "id": "606f9f09",
   "metadata": {},
   "outputs": [
    {
     "data": {
      "text/html": [
       "<div>\n",
       "<style scoped>\n",
       "    .dataframe tbody tr th:only-of-type {\n",
       "        vertical-align: middle;\n",
       "    }\n",
       "\n",
       "    .dataframe tbody tr th {\n",
       "        vertical-align: top;\n",
       "    }\n",
       "\n",
       "    .dataframe thead th {\n",
       "        text-align: right;\n",
       "    }\n",
       "</style>\n",
       "<table border=\"1\" class=\"dataframe\">\n",
       "  <thead>\n",
       "    <tr style=\"text-align: right;\">\n",
       "      <th></th>\n",
       "      <th>Unnamed: 0</th>\n",
       "      <th>Id</th>\n",
       "      <th>OwnerUserId</th>\n",
       "      <th>CreationDate</th>\n",
       "      <th>ClosedDate</th>\n",
       "      <th>Score</th>\n",
       "      <th>Title</th>\n",
       "      <th>Body</th>\n",
       "    </tr>\n",
       "  </thead>\n",
       "  <tbody>\n",
       "    <tr>\n",
       "      <th>0</th>\n",
       "      <td>5826</td>\n",
       "      <td>404430</td>\n",
       "      <td>23571.0</td>\n",
       "      <td>2009-01-01T02:39:17Z</td>\n",
       "      <td>NaN</td>\n",
       "      <td>8</td>\n",
       "      <td>What have you used Regular Expressions for?</td>\n",
       "      <td>&lt;p&gt;I have heard of regular expressions and onl...</td>\n",
       "    </tr>\n",
       "    <tr>\n",
       "      <th>1</th>\n",
       "      <td>5827</td>\n",
       "      <td>404450</td>\n",
       "      <td>NaN</td>\n",
       "      <td>2009-01-01T02:55:13Z</td>\n",
       "      <td>NaN</td>\n",
       "      <td>1</td>\n",
       "      <td>LINQ to SQL</td>\n",
       "      <td>&lt;p&gt;I am finishing off a C# ASP.NET program tha...</td>\n",
       "    </tr>\n",
       "    <tr>\n",
       "      <th>2</th>\n",
       "      <td>5828</td>\n",
       "      <td>404470</td>\n",
       "      <td>24457.0</td>\n",
       "      <td>2009-01-01T03:17:22Z</td>\n",
       "      <td>NaN</td>\n",
       "      <td>55</td>\n",
       "      <td>What MIME type if JSON is being returned by a ...</td>\n",
       "      <td>&lt;p&gt;My REST API returns JSON. &lt;/p&gt;\\n\\n&lt;p&gt;I'm cu...</td>\n",
       "    </tr>\n",
       "    <tr>\n",
       "      <th>3</th>\n",
       "      <td>5829</td>\n",
       "      <td>404600</td>\n",
       "      <td>4.0</td>\n",
       "      <td>2009-01-01T05:51:41Z</td>\n",
       "      <td>NaN</td>\n",
       "      <td>4</td>\n",
       "      <td>SQL Server Enterprise Manager 2005 - stored pr...</td>\n",
       "      <td>&lt;p&gt;When using SQL Server Management Studio fro...</td>\n",
       "    </tr>\n",
       "    <tr>\n",
       "      <th>4</th>\n",
       "      <td>5830</td>\n",
       "      <td>404830</td>\n",
       "      <td>2594.0</td>\n",
       "      <td>2009-01-01T10:31:23Z</td>\n",
       "      <td>NaN</td>\n",
       "      <td>2</td>\n",
       "      <td>Cocoa Won't Capture Shift Modifier?</td>\n",
       "      <td>&lt;p&gt;Hey All,\\nI have an application in which I'...</td>\n",
       "    </tr>\n",
       "  </tbody>\n",
       "</table>\n",
       "</div>"
      ],
      "text/plain": [
       "   Unnamed: 0      Id  OwnerUserId          CreationDate ClosedDate  Score  \\\n",
       "0        5826  404430      23571.0  2009-01-01T02:39:17Z        NaN      8   \n",
       "1        5827  404450          NaN  2009-01-01T02:55:13Z        NaN      1   \n",
       "2        5828  404470      24457.0  2009-01-01T03:17:22Z        NaN     55   \n",
       "3        5829  404600          4.0  2009-01-01T05:51:41Z        NaN      4   \n",
       "4        5830  404830       2594.0  2009-01-01T10:31:23Z        NaN      2   \n",
       "\n",
       "                                               Title  \\\n",
       "0        What have you used Regular Expressions for?   \n",
       "1                                        LINQ to SQL   \n",
       "2  What MIME type if JSON is being returned by a ...   \n",
       "3  SQL Server Enterprise Manager 2005 - stored pr...   \n",
       "4                Cocoa Won't Capture Shift Modifier?   \n",
       "\n",
       "                                                Body  \n",
       "0  <p>I have heard of regular expressions and onl...  \n",
       "1  <p>I am finishing off a C# ASP.NET program tha...  \n",
       "2  <p>My REST API returns JSON. </p>\\n\\n<p>I'm cu...  \n",
       "3  <p>When using SQL Server Management Studio fro...  \n",
       "4  <p>Hey All,\\nI have an application in which I'...  "
      ]
     },
     "execution_count": 4,
     "metadata": {},
     "output_type": "execute_result"
    }
   ],
   "source": [
    "train_questions.head()"
   ]
  },
  {
   "cell_type": "code",
   "execution_count": 5,
   "id": "e86f49ff",
   "metadata": {},
   "outputs": [
    {
     "data": {
      "text/plain": [
       "(34279, 4)"
      ]
     },
     "execution_count": 5,
     "metadata": {},
     "output_type": "execute_result"
    }
   ],
   "source": [
    "q_cols = ['Id', 'Score', 'Title', 'Body']\n",
    "train_Q = train_questions[q_cols]\n",
    "train_Q.shape"
   ]
  },
  {
   "cell_type": "markdown",
   "id": "adea082a",
   "metadata": {},
   "source": [
    "# 2. Clean text and create TF-IDF model using \"Title\""
   ]
  },
  {
   "cell_type": "markdown",
   "id": "247e3fd0",
   "metadata": {},
   "source": [
    "## 2.1. Clean text"
   ]
  },
  {
   "cell_type": "code",
   "execution_count": 6,
   "id": "a8a8634d",
   "metadata": {},
   "outputs": [],
   "source": [
    "import nltk\n",
    "import re\n",
    "from nltk.corpus import stopwords\n",
    "from nltk.stem.porter import PorterStemmer\n",
    "from nltk.stem import WordNetLemmatizer"
   ]
  },
  {
   "cell_type": "code",
   "execution_count": 7,
   "id": "70ecc958",
   "metadata": {},
   "outputs": [
    {
     "data": {
      "text/plain": [
       "34279"
      ]
     },
     "execution_count": 7,
     "metadata": {},
     "output_type": "execute_result"
    }
   ],
   "source": [
    "headlines=[]\n",
    "for index, row in train_Q.iterrows():\n",
    "    headlines.append(row['Title'])\n",
    "len(headlines)"
   ]
  },
  {
   "cell_type": "code",
   "execution_count": 8,
   "id": "6a1b3c3e",
   "metadata": {},
   "outputs": [],
   "source": [
    "ps = PorterStemmer()\n",
    "corpus = []\n",
    "for headline in headlines:\n",
    "    review = re.sub('[^a-zA-Z]', ' ', headline)\n",
    "    review = review.lower()\n",
    "    review = review.split()\n",
    "    \n",
    "    review = [ps.stem(word) for word in review] # if word not in stopwords.words('english')\n",
    "    review = ' '.join(review)\n",
    "    corpus.append(review)"
   ]
  },
  {
   "cell_type": "code",
   "execution_count": 9,
   "id": "d87a0ed8",
   "metadata": {},
   "outputs": [
    {
     "data": {
      "text/plain": [
       "'what have you use regular express for'"
      ]
     },
     "execution_count": 9,
     "metadata": {},
     "output_type": "execute_result"
    }
   ],
   "source": [
    "corpus[0]"
   ]
  },
  {
   "cell_type": "markdown",
   "id": "bf23811b",
   "metadata": {},
   "source": [
    "## 2.2. Creating the TF-IDF model"
   ]
  },
  {
   "cell_type": "code",
   "execution_count": 10,
   "id": "dbb0452c",
   "metadata": {},
   "outputs": [],
   "source": [
    "from sklearn.feature_extraction.text import TfidfVectorizer\n",
    "cv = TfidfVectorizer(max_features=5000, ngram_range=(2, 2))\n",
    "train_QT = cv.fit_transform(corpus).toarray()"
   ]
  },
  {
   "cell_type": "code",
   "execution_count": 11,
   "id": "e8fa6f22",
   "metadata": {},
   "outputs": [
    {
     "data": {
      "text/plain": [
       "(34279, 5000)"
      ]
     },
     "execution_count": 11,
     "metadata": {},
     "output_type": "execute_result"
    }
   ],
   "source": [
    "train_QT.shape"
   ]
  },
  {
   "cell_type": "code",
   "execution_count": 12,
   "id": "51e94a0f",
   "metadata": {},
   "outputs": [
    {
     "data": {
      "text/plain": [
       "array([[0., 0., 0., ..., 0., 0., 0.],\n",
       "       [0., 0., 0., ..., 0., 0., 0.],\n",
       "       [0., 0., 0., ..., 0., 0., 0.],\n",
       "       ...,\n",
       "       [0., 0., 0., ..., 0., 0., 0.],\n",
       "       [0., 0., 0., ..., 0., 0., 0.],\n",
       "       [0., 0., 0., ..., 0., 0., 0.]])"
      ]
     },
     "execution_count": 12,
     "metadata": {},
     "output_type": "execute_result"
    }
   ],
   "source": [
    "train_QT"
   ]
  },
  {
   "cell_type": "code",
   "execution_count": 13,
   "id": "7e1649d3",
   "metadata": {},
   "outputs": [
    {
     "data": {
      "text/plain": [
       "(34279, 5000)"
      ]
     },
     "execution_count": 13,
     "metadata": {},
     "output_type": "execute_result"
    }
   ],
   "source": [
    "df1 = pd.DataFrame(train_QT, columns=cv.get_feature_names())\n",
    "df1.shape"
   ]
  },
  {
   "cell_type": "code",
   "execution_count": 14,
   "id": "e5860968",
   "metadata": {},
   "outputs": [],
   "source": [
    "df = train_questions.drop(['Unnamed: 0', 'OwnerUserId', 'CreationDate', 'ClosedDate', 'Title', 'Body', 'Score'], axis=1)"
   ]
  },
  {
   "cell_type": "code",
   "execution_count": 15,
   "id": "982c18ab",
   "metadata": {},
   "outputs": [
    {
     "data": {
      "text/plain": [
       "(34279, 5001)"
      ]
     },
     "execution_count": 15,
     "metadata": {},
     "output_type": "execute_result"
    }
   ],
   "source": [
    "res = pd.concat([df, df1], axis=1)\n",
    "res.shape"
   ]
  },
  {
   "cell_type": "code",
   "execution_count": 16,
   "id": "1303aa5b",
   "metadata": {},
   "outputs": [],
   "source": [
    "res = res.set_index('Id')"
   ]
  },
  {
   "cell_type": "code",
   "execution_count": 17,
   "id": "b89b083a",
   "metadata": {},
   "outputs": [
    {
     "data": {
      "text/html": [
       "<div>\n",
       "<style scoped>\n",
       "    .dataframe tbody tr th:only-of-type {\n",
       "        vertical-align: middle;\n",
       "    }\n",
       "\n",
       "    .dataframe tbody tr th {\n",
       "        vertical-align: top;\n",
       "    }\n",
       "\n",
       "    .dataframe thead th {\n",
       "        text-align: right;\n",
       "    }\n",
       "</style>\n",
       "<table border=\"1\" class=\"dataframe\">\n",
       "  <thead>\n",
       "    <tr style=\"text-align: right;\">\n",
       "      <th></th>\n",
       "      <th>abl to</th>\n",
       "      <th>about the</th>\n",
       "      <th>absolut path</th>\n",
       "      <th>abstract class</th>\n",
       "      <th>access an</th>\n",
       "      <th>access control</th>\n",
       "      <th>access data</th>\n",
       "      <th>access databas</th>\n",
       "      <th>access db</th>\n",
       "      <th>access deni</th>\n",
       "      <th>...</th>\n",
       "      <th>you put</th>\n",
       "      <th>you recommend</th>\n",
       "      <th>you set</th>\n",
       "      <th>you use</th>\n",
       "      <th>your favorit</th>\n",
       "      <th>your own</th>\n",
       "      <th>zend db</th>\n",
       "      <th>zend form</th>\n",
       "      <th>zend framework</th>\n",
       "      <th>zip file</th>\n",
       "    </tr>\n",
       "    <tr>\n",
       "      <th>Id</th>\n",
       "      <th></th>\n",
       "      <th></th>\n",
       "      <th></th>\n",
       "      <th></th>\n",
       "      <th></th>\n",
       "      <th></th>\n",
       "      <th></th>\n",
       "      <th></th>\n",
       "      <th></th>\n",
       "      <th></th>\n",
       "      <th></th>\n",
       "      <th></th>\n",
       "      <th></th>\n",
       "      <th></th>\n",
       "      <th></th>\n",
       "      <th></th>\n",
       "      <th></th>\n",
       "      <th></th>\n",
       "      <th></th>\n",
       "      <th></th>\n",
       "      <th></th>\n",
       "    </tr>\n",
       "  </thead>\n",
       "  <tbody>\n",
       "    <tr>\n",
       "      <th>404430</th>\n",
       "      <td>0.0</td>\n",
       "      <td>0.0</td>\n",
       "      <td>0.0</td>\n",
       "      <td>0.0</td>\n",
       "      <td>0.0</td>\n",
       "      <td>0.0</td>\n",
       "      <td>0.0</td>\n",
       "      <td>0.0</td>\n",
       "      <td>0.0</td>\n",
       "      <td>0.0</td>\n",
       "      <td>...</td>\n",
       "      <td>0.0</td>\n",
       "      <td>0.0</td>\n",
       "      <td>0.0</td>\n",
       "      <td>0.394512</td>\n",
       "      <td>0.0</td>\n",
       "      <td>0.0</td>\n",
       "      <td>0.0</td>\n",
       "      <td>0.0</td>\n",
       "      <td>0.0</td>\n",
       "      <td>0.0</td>\n",
       "    </tr>\n",
       "    <tr>\n",
       "      <th>404450</th>\n",
       "      <td>0.0</td>\n",
       "      <td>0.0</td>\n",
       "      <td>0.0</td>\n",
       "      <td>0.0</td>\n",
       "      <td>0.0</td>\n",
       "      <td>0.0</td>\n",
       "      <td>0.0</td>\n",
       "      <td>0.0</td>\n",
       "      <td>0.0</td>\n",
       "      <td>0.0</td>\n",
       "      <td>...</td>\n",
       "      <td>0.0</td>\n",
       "      <td>0.0</td>\n",
       "      <td>0.0</td>\n",
       "      <td>0.000000</td>\n",
       "      <td>0.0</td>\n",
       "      <td>0.0</td>\n",
       "      <td>0.0</td>\n",
       "      <td>0.0</td>\n",
       "      <td>0.0</td>\n",
       "      <td>0.0</td>\n",
       "    </tr>\n",
       "    <tr>\n",
       "      <th>404470</th>\n",
       "      <td>0.0</td>\n",
       "      <td>0.0</td>\n",
       "      <td>0.0</td>\n",
       "      <td>0.0</td>\n",
       "      <td>0.0</td>\n",
       "      <td>0.0</td>\n",
       "      <td>0.0</td>\n",
       "      <td>0.0</td>\n",
       "      <td>0.0</td>\n",
       "      <td>0.0</td>\n",
       "      <td>...</td>\n",
       "      <td>0.0</td>\n",
       "      <td>0.0</td>\n",
       "      <td>0.0</td>\n",
       "      <td>0.000000</td>\n",
       "      <td>0.0</td>\n",
       "      <td>0.0</td>\n",
       "      <td>0.0</td>\n",
       "      <td>0.0</td>\n",
       "      <td>0.0</td>\n",
       "      <td>0.0</td>\n",
       "    </tr>\n",
       "    <tr>\n",
       "      <th>404600</th>\n",
       "      <td>0.0</td>\n",
       "      <td>0.0</td>\n",
       "      <td>0.0</td>\n",
       "      <td>0.0</td>\n",
       "      <td>0.0</td>\n",
       "      <td>0.0</td>\n",
       "      <td>0.0</td>\n",
       "      <td>0.0</td>\n",
       "      <td>0.0</td>\n",
       "      <td>0.0</td>\n",
       "      <td>...</td>\n",
       "      <td>0.0</td>\n",
       "      <td>0.0</td>\n",
       "      <td>0.0</td>\n",
       "      <td>0.000000</td>\n",
       "      <td>0.0</td>\n",
       "      <td>0.0</td>\n",
       "      <td>0.0</td>\n",
       "      <td>0.0</td>\n",
       "      <td>0.0</td>\n",
       "      <td>0.0</td>\n",
       "    </tr>\n",
       "  </tbody>\n",
       "</table>\n",
       "<p>4 rows × 5000 columns</p>\n",
       "</div>"
      ],
      "text/plain": [
       "        abl to  about the  absolut path  abstract class  access an  \\\n",
       "Id                                                                   \n",
       "404430     0.0        0.0           0.0             0.0        0.0   \n",
       "404450     0.0        0.0           0.0             0.0        0.0   \n",
       "404470     0.0        0.0           0.0             0.0        0.0   \n",
       "404600     0.0        0.0           0.0             0.0        0.0   \n",
       "\n",
       "        access control  access data  access databas  access db  access deni  \\\n",
       "Id                                                                            \n",
       "404430             0.0          0.0             0.0        0.0          0.0   \n",
       "404450             0.0          0.0             0.0        0.0          0.0   \n",
       "404470             0.0          0.0             0.0        0.0          0.0   \n",
       "404600             0.0          0.0             0.0        0.0          0.0   \n",
       "\n",
       "        ...  you put  you recommend  you set   you use  your favorit  \\\n",
       "Id      ...                                                            \n",
       "404430  ...      0.0            0.0      0.0  0.394512           0.0   \n",
       "404450  ...      0.0            0.0      0.0  0.000000           0.0   \n",
       "404470  ...      0.0            0.0      0.0  0.000000           0.0   \n",
       "404600  ...      0.0            0.0      0.0  0.000000           0.0   \n",
       "\n",
       "        your own  zend db  zend form  zend framework  zip file  \n",
       "Id                                                              \n",
       "404430       0.0      0.0        0.0             0.0       0.0  \n",
       "404450       0.0      0.0        0.0             0.0       0.0  \n",
       "404470       0.0      0.0        0.0             0.0       0.0  \n",
       "404600       0.0      0.0        0.0             0.0       0.0  \n",
       "\n",
       "[4 rows x 5000 columns]"
      ]
     },
     "execution_count": 17,
     "metadata": {},
     "output_type": "execute_result"
    }
   ],
   "source": [
    "res.head(4)"
   ]
  },
  {
   "cell_type": "markdown",
   "id": "076919bd",
   "metadata": {},
   "source": [
    "# 3. Similarity"
   ]
  },
  {
   "cell_type": "code",
   "execution_count": 18,
   "id": "1796a83c",
   "metadata": {},
   "outputs": [
    {
     "data": {
      "text/plain": [
       "NearestNeighbors(algorithm='brute', metric='cosine')"
      ]
     },
     "execution_count": 18,
     "metadata": {},
     "output_type": "execute_result"
    }
   ],
   "source": [
    "from sklearn.neighbors import NearestNeighbors\n",
    "\n",
    "\n",
    "model = NearestNeighbors(metric = 'cosine', algorithm = 'brute')\n",
    "model.fit(res)"
   ]
  },
  {
   "cell_type": "code",
   "execution_count": 19,
   "id": "2991db2b",
   "metadata": {},
   "outputs": [],
   "source": [
    "def getSimilarQuestions(text):\n",
    "    text = re.sub('[^a-zA-Z]', ' ', text)\n",
    "    text = text.lower()\n",
    "    text = text.split()\n",
    "    text = [ps.stem(word) for word in text] # if word not in stopwords.words('english')\n",
    "    text = ' '.join(text)\n",
    "    corpus = [text]\n",
    "    test_question = cv.transform(corpus).toarray()\n",
    "    test_question = pd.DataFrame(test_question, columns=cv.get_feature_names())\n",
    "    distances, indices = model.kneighbors(test_question.values.reshape(1, -1), n_neighbors = 6)\n",
    "    indices = indices.flatten()\n",
    "    similar_questions = []\n",
    "    for indice in indices:\n",
    "        similar_questions.append(train_questions.loc[indice])\n",
    "    return similar_questions"
   ]
  },
  {
   "cell_type": "code",
   "execution_count": 20,
   "id": "2d4da593",
   "metadata": {},
   "outputs": [],
   "source": [
    "def printSimilarQuestionsList(similars, question):\n",
    "    print('Questions similar to: ', question, '\\n')\n",
    "    for similar in similars:\n",
    "        print(similar.Title)"
   ]
  },
  {
   "cell_type": "code",
   "execution_count": 21,
   "id": "72478330",
   "metadata": {},
   "outputs": [
    {
     "data": {
      "text/plain": [
       "Unnamed: 0                                                   1000\n",
       "Id                                                          83840\n",
       "OwnerUserId                                               14113.0\n",
       "CreationDate                                 2008-09-17T14:30:24Z\n",
       "ClosedDate                                                    NaN\n",
       "Score                                                           9\n",
       "Title           Is there a Functional Programming library for ...\n",
       "Body            <p>For example, in Java there is <a href=\"http...\n",
       "Name: 1000, dtype: object"
      ]
     },
     "execution_count": 21,
     "metadata": {},
     "output_type": "execute_result"
    }
   ],
   "source": [
    "question = test_questions.loc[1000]\n",
    "question"
   ]
  },
  {
   "cell_type": "code",
   "execution_count": 22,
   "id": "b73bb40c",
   "metadata": {},
   "outputs": [],
   "source": [
    "text = question.Title + ' ' + question.Body"
   ]
  },
  {
   "cell_type": "code",
   "execution_count": 23,
   "id": "0a2b6e41",
   "metadata": {},
   "outputs": [
    {
     "data": {
      "text/plain": [
       "6"
      ]
     },
     "execution_count": 23,
     "metadata": {},
     "output_type": "execute_result"
    }
   ],
   "source": [
    "similars = getSimilarQuestions(text)\n",
    "len(similars)"
   ]
  },
  {
   "cell_type": "code",
   "execution_count": 24,
   "id": "b479e175",
   "metadata": {},
   "outputs": [
    {
     "name": "stdout",
     "output_type": "stream",
     "text": [
      "Questions similar to:  Is there a Functional Programming library for .NET? \n",
      "\n",
      "SFTP Libraries for .NET\n",
      "Data import wizard library for .Net?\n",
      "Matrix Library for .NET\n",
      "Media File Conversion Library For .NET\n",
      "Is there a streaming API for JSON?\n",
      "how to select divs with jquery like for example in photoshop ? (select area)\n"
     ]
    }
   ],
   "source": [
    "printSimilarQuestionsList(similars, question.Title)"
   ]
  },
  {
   "cell_type": "code",
   "execution_count": 25,
   "id": "3ca62020",
   "metadata": {},
   "outputs": [
    {
     "data": {
      "text/plain": [
       "2738     Advantages of Antlr (versus say, lex/yacc/bison)\n",
       "1212    Is there a way to prevent google search terms ...\n",
       "2251        Python style: multiple-line conditions in IFs\n",
       "2116    Problem using the ASP.NET FileUpload control i...\n",
       "3502                         Sensitive data in Viewstate?\n",
       "Name: Title, dtype: object"
      ]
     },
     "execution_count": 25,
     "metadata": {},
     "output_type": "execute_result"
    }
   ],
   "source": [
    "questions = test_questions.sample(n=5)\n",
    "questions.Title"
   ]
  },
  {
   "cell_type": "code",
   "execution_count": 26,
   "id": "71599830",
   "metadata": {},
   "outputs": [
    {
     "name": "stdout",
     "output_type": "stream",
     "text": [
      "Questions similar to:  Advantages of Antlr (versus say, lex/yacc/bison) \n",
      "\n",
      "Jqmodal isn't working in the Updatepanel\n",
      "Android: Simulate WiFi in the emulator?\n",
      "BC30560: 'default_aspx' is ambiguous in the namespace 'ASP'\n",
      "Can i give alignment in the picker view's data?\n",
      "What permissions should Developers have in the Dev database instance\n",
      "Can I obtain higher resolution in the frequency domain with a stereo signal?\n",
      "\n",
      "\n",
      "***************************\n",
      "\n",
      "\n",
      "Questions similar to:  Is there a way to prevent google search terms from matching urls? \n",
      "\n",
      "Is there a way to paint semi transparently on a PictureBox?\n",
      "Is there a way to emulate a QGroupVBoxLayout?\n",
      "Adding html in DataTextFormatString\n",
      "Is there a way to get Asio working without Boost?\n",
      "Is there a way to get which classes a ClassLoader has loaded?\n",
      "Is there a way to make imshow in octave behave more like Matlab?\n",
      "\n",
      "\n",
      "***************************\n",
      "\n",
      "\n",
      "Questions similar to:  Python style: multiple-line conditions in IFs \n",
      "\n",
      "How to do something as application load Logo image\n",
      "ActiveRecord create dynamic conditions in find method\n",
      "Race conditions in django\n",
      "JAXB is good until I need to do something complex. What are the alternatives?\n",
      "WHERE conditions in subquery while using ANSI joins\n",
      "jQuery scope or race condition in AJAX/getJSON\n",
      "\n",
      "\n",
      "***************************\n",
      "\n",
      "\n",
      "Questions similar to:  Problem using the ASP.NET FileUpload control in an UpdatePanel? \n",
      "\n",
      "Maintaining ViewState for FileUpload Control\n",
      "How to create a FileUpload control in WPF?\n",
      "Problem validating filetypes in an ASP.NET FileUpload control with RegularExpressionValidator\n",
      "FileUpload control resulting in empty file\n",
      "is there such list control in c++\n",
      "Cannot hide Controls in NSView\n",
      "\n",
      "\n",
      "***************************\n",
      "\n",
      "\n",
      "Questions similar to:  Sensitive data in Viewstate? \n",
      "\n",
      "store a queryset in the session with django\n",
      "Holding the session in Flex\n",
      "Provide strongly typed access to the session object\n",
      "Iframe keep-alive function - what is needed to reset the session timeout?\n",
      "JSF button to reset the session\n",
      "How can I access lazy-loaded fields after the session has closed, using hibernate?\n",
      "\n",
      "\n",
      "***************************\n",
      "\n",
      "\n"
     ]
    }
   ],
   "source": [
    "for index, question in questions.iterrows():\n",
    "    text = question.Title + ' ' + question.Body\n",
    "    similars = getSimilarQuestions(text)\n",
    "    printSimilarQuestionsList(similars, question.Title)\n",
    "    print('\\n\\n***************************\\n\\n')"
   ]
  },
  {
   "cell_type": "code",
   "execution_count": null,
   "id": "7b242cbd",
   "metadata": {},
   "outputs": [],
   "source": []
  }
 ],
 "metadata": {
  "kernelspec": {
   "display_name": "Python 3",
   "language": "python",
   "name": "python3"
  },
  "language_info": {
   "codemirror_mode": {
    "name": "ipython",
    "version": 3
   },
   "file_extension": ".py",
   "mimetype": "text/x-python",
   "name": "python",
   "nbconvert_exporter": "python",
   "pygments_lexer": "ipython3",
   "version": "3.8.8"
  }
 },
 "nbformat": 4,
 "nbformat_minor": 5
}
